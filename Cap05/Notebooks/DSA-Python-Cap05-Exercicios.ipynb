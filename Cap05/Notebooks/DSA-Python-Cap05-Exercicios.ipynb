{
 "cells": [
  {
   "cell_type": "markdown",
   "metadata": {},
   "source": [
    "# <font color='blue'>Data Science Academy - Python Fundamentos - Capítulo 5</font>\n",
    "\n",
    "## Download: http://github.com/dsacademybr"
   ]
  },
  {
   "cell_type": "code",
   "execution_count": 1,
   "metadata": {},
   "outputs": [
    {
     "name": "stdout",
     "output_type": "stream",
     "text": [
      "Versão da Linguagem Python Usada Neste Jupyter Notebook: 3.9.12\n"
     ]
    }
   ],
   "source": [
    "# Versão da Linguagem Python\n",
    "from platform import python_version\n",
    "print('Versão da Linguagem Python Usada Neste Jupyter Notebook:', python_version())"
   ]
  },
  {
   "cell_type": "markdown",
   "metadata": {},
   "source": [
    "## Exercícios"
   ]
  },
  {
   "cell_type": "code",
   "execution_count": 2,
   "metadata": {},
   "outputs": [],
   "source": [
    "# Exercício 1 - Crie um objeto a partir da classe abaixo, chamado roc1, passando 2 parâmetros e depois faça uma chamada\n",
    "# aos atributos e métodos\n",
    "from math import sqrt\n",
    "\n",
    "class Rocket():\n",
    "     \n",
    "    def __init__(self, x=0, y=0):\n",
    "        self.x = x\n",
    "        self.y = y\n",
    "        \n",
    "    def move_rocket(self, x_increment=0, y_increment=1):\n",
    "        self.x += x_increment\n",
    "        self.y += y_increment\n",
    "        \n",
    "    def print_rocket(self):\n",
    "        print(self.x, self.y)\n",
    "        "
   ]
  },
  {
   "cell_type": "code",
   "execution_count": 4,
   "metadata": {},
   "outputs": [
    {
     "name": "stdout",
     "output_type": "stream",
     "text": [
      "4\n",
      "8\n",
      "4 8\n",
      "9 6\n",
      "9\n",
      "6\n"
     ]
    }
   ],
   "source": [
    "# Exercício 1\n",
    "roc1 = Rocket(4, 8)\n",
    "\n",
    "print(roc1.x)\n",
    "print(roc1.y)\n",
    "roc1.print_rocket()\n",
    "roc1.move_rocket(5, -2)\n",
    "roc1.print_rocket()\n",
    "print(roc1.x)\n",
    "print(roc1.y)"
   ]
  },
  {
   "cell_type": "code",
   "execution_count": 25,
   "metadata": {},
   "outputs": [],
   "source": [
    "# Exercício 2 - Crie uma classe chamada Pessoa() com os atributos: nome, cidade, telefone e e-mail. Use pelo menos 2\n",
    "# métodos especiais na sua classe. Crie um objeto da sua classe e faça uma chamada a pelo menos um dos seus métodos\n",
    "# especiais.\n",
    "\n",
    "class Pessoa():\n",
    "    \n",
    "    def __init__(self, nome, cidade, telefone = '', email = ''):\n",
    "        self.nome = nome\n",
    "        self.cidade = cidade\n",
    "        self.telefone = telefone\n",
    "        self.email = email\n",
    "    \n",
    "    def __str__(self):\n",
    "        return \"A pessoa %s é da cidade %s, seu telefone é %s e o email é %s.\" \\\n",
    "    %(self.nome, self.cidade, self.telefone, self.email)\n",
    "    \n",
    "    def __len__(self):\n",
    "        return len(self.nome)\n",
    "    \n",
    "    def setTelefone(self, telefone):\n",
    "        self.telefone = telefone\n",
    "        \n",
    "    def setEmail(self, email):\n",
    "        self.email = email"
   ]
  },
  {
   "cell_type": "code",
   "execution_count": 26,
   "metadata": {},
   "outputs": [
    {
     "name": "stdout",
     "output_type": "stream",
     "text": [
      "A pessoa Julio é da cidade São Paulo, seu telefone é  e o email é .\n"
     ]
    }
   ],
   "source": [
    "#Exercício 2\n",
    "pessoa1 = Pessoa(\"Julio\", \"São Paulo\")\n",
    "\n",
    "print(pessoa1)"
   ]
  },
  {
   "cell_type": "code",
   "execution_count": 27,
   "metadata": {},
   "outputs": [
    {
     "name": "stdout",
     "output_type": "stream",
     "text": [
      "A pessoa Julio é da cidade São Paulo, seu telefone é 99845-1425 e o email é julio.julio@gmail.com.\n"
     ]
    },
    {
     "data": {
      "text/plain": [
       "5"
      ]
     },
     "execution_count": 27,
     "metadata": {},
     "output_type": "execute_result"
    }
   ],
   "source": [
    "#Exercício 2\n",
    "pessoa1.setTelefone('99845-1425')\n",
    "pessoa1.setEmail('julio.julio@gmail.com')\n",
    "print(pessoa1)\n",
    "len(pessoa1)"
   ]
  },
  {
   "cell_type": "code",
   "execution_count": 49,
   "metadata": {},
   "outputs": [],
   "source": [
    "# Exercício 3 - Crie a classe Smartphone com 2 atributos, tamanho e interface e crie a classe MP3Player com os \n",
    "# atributos capacidade. A classe MP3player deve herdar os atributos da classe Smartphone.\n",
    "\n",
    "class SmartPhone():\n",
    "    def __init__(self, interface, tamanho = 6.5):\n",
    "        self.tamanho = tamanho\n",
    "        self.interface = interface\n",
    "    \n",
    "    def __str__(self):\n",
    "        return \"O tamanho do smartphone é %s e a interface é %s.\" \\\n",
    "    %(self.tamanho, self.interface)\n",
    "    \n",
    "class MP3Player(SmartPhone):\n",
    "    def __init__(self, interface, tamanho = 6.5, capacidade = 64):\n",
    "        SmartPhone.__init__(self, interface, tamanho)\n",
    "        self.capacidade = capacidade\n",
    "     \n",
    "    def __str__(self):\n",
    "        return \"O tamanho do MP3Player é %s, sua interface é %s e a capacidade é %d.\" \\\n",
    "    %(self.tamanho, self.interface, self.capacidade)\n",
    "    "
   ]
  },
  {
   "cell_type": "code",
   "execution_count": 50,
   "metadata": {},
   "outputs": [
    {
     "name": "stdout",
     "output_type": "stream",
     "text": [
      "O tamanho do MP3Player é 6.5, sua interface é Android e a capacidade é 64.\n"
     ]
    }
   ],
   "source": [
    "player = MP3Player(interface = 'Android')\n",
    "\n",
    "print(player)"
   ]
  },
  {
   "cell_type": "markdown",
   "metadata": {},
   "source": [
    "### FIM"
   ]
  },
  {
   "cell_type": "markdown",
   "metadata": {},
   "source": [
    "### Obrigado\n",
    "\n",
    "### Visite o Blog da Data Science Academy - <a href=\"http://blog.dsacademy.com.br\">Blog DSA</a>"
   ]
  }
 ],
 "metadata": {
  "kernelspec": {
   "display_name": "Python 3 (ipykernel)",
   "language": "python",
   "name": "python3"
  },
  "language_info": {
   "codemirror_mode": {
    "name": "ipython",
    "version": 3
   },
   "file_extension": ".py",
   "mimetype": "text/x-python",
   "name": "python",
   "nbconvert_exporter": "python",
   "pygments_lexer": "ipython3",
   "version": "3.9.12"
  }
 },
 "nbformat": 4,
 "nbformat_minor": 4
}
